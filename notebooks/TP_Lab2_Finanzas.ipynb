# Placeholder de notebook TP_Lab2_Finanzas.ipynb
# Sube aquí tu notebook original.